{
 "cells": [
  {
   "cell_type": "markdown",
   "id": "65f68045-b8cd-4c90-897d-2265b938818b",
   "metadata": {},
   "source": [
    "## **Making a LArCV file for 2x2 using flow2supera**"
   ]
  },
  {
   "cell_type": "markdown",
   "id": "31e4ad76-b627-44d6-884a-efc11ae6e9ca",
   "metadata": {},
   "source": [
    "### **1. Introduction and Workflow**\n",
    "##### Flow2supera is esentially a data parsing software that converts the 2x2 flow files into LArCV format (Liquid Argon Computer Vision, specific data structure for ML)\n",
    "##### Flow2supera software is dependent on LArCV, SuperaAtomic (label maker), and edep2supera (historical, will be gotten rid of eventually) and h5flow which is already installed on s3df and and nersc containers (use pscratch directory if using nersc)\n",
    "<figure>\n",
    "<img src=\"https://github.com/sindhu-ku/flow2supera/blob/main/Workflow.jpg?raw=true\">\n",
    "<figcaption align = \"center\"> 2x2 software chain </figcaption>\n",
    "</figure>"
   ]
  },
  {
   "cell_type": "markdown",
   "id": "1c6161bf-902e-49f6-95b2-9ad8fb6f3727",
   "metadata": {},
   "source": [
    "### **2. Install dependencies**\n",
    "\n",
    "##### Copy this file on s3df: ```/sdf/home/s/sindhuk/Jul2024Tutorial/install_f2s.sh``` and do:\n",
    "```source install_f2s.sh``` \n",
    "##### Below is what is inside:\n"
   ]
  },
  {
   "cell_type": "markdown",
   "id": "1277bfd3-f411-4394-9e67-2af29361bc27",
   "metadata": {},
   "source": [
    "```\n",
    "unset which\n",
    "git clone https://github.com/DeepLearnPhysics/larcv2.git\n",
    "cd larcv2\n",
    "source configure.sh\n",
    "make\n",
    "\n",
    "cd ..\n",
    "git clone -b v1.6.0 https://github.com/DeepLearnPhysics/SuperaAtomic.git\n",
    "cd SuperaAtomic\n",
    "pip3 install .\n",
    "\n",
    "cd ..\n",
    "git clone -b v1.3.1 https://github.com/DeepLearnPhysics/edep2supera.git\n",
    "cd edep2supera\n",
    "pip3 install .\n",
    "\n",
    "cd ..\n",
    "git clone https://github.com/DeepLearnPhysics/flow2supera.git\n",
    "cd flow2supera\n",
    "pip3 install .\n",
    "```"
   ]
  },
  {
   "cell_type": "markdown",
   "id": "780302d7-261f-47ad-bcce-14d2f0fa58c5",
   "metadata": {},
   "source": [
    "### **3. Run flow2supera**\n",
    "\n",
    "#### **Input files**:\n",
    "##### 2x2 data: ```/sdf/data/neutrino/zhulcher/edep_from_nersc/2x2/2x2_data/fromKevin2/flow_files_beam_only/```\n",
    "```/global/cfs/cdirs/dune/www/data/2x2/sandbox/v1/charge_data/flow_files_beam_only/```\n",
    "##### 2x2 sim: \n",
    "```/sdf/data/neutrino/sindhuk/Minirun5_beta2/```\n",
    "```/global/cfs/cdirs/dune/www/data/2x2/simulation/productions/MiniRun5_1E19_RHC/MiniRun5_1E19_RHC.caf.beta2a```\n",
    "##### Required arguments: input file, output file, and config (2x2_data, 2x2, mod1_data...)\n",
    "##### Optional: -n num events to process, -s num of events to skip at the beginning, -l name of log file\n",
    "\n",
    "#### **Run data:** \n",
    "```python3 bin/run_flow2supera.py -o test_data.root -c 2x2_data /sdf/data/neutrino/zhulcher/edep_from_nersc/2x2/2x2_data/fromKevin2/flow_files_beam_only/flow_files_beam_only/h5/packet-0050017-2024_07_09_00_04_33_CDT.FLOW.hdf5```\n",
    "\n",
    "##### **Run simulation:**\n",
    "```python3 bin/run_flow2supera.py -o test_sim.root -n 1000 -c 2x2 /sdf/data/neutrino/sindhuk/Minirun5_beta2/MiniRun5_1E19_RHC.flow.0000967.FLOW.hdf5```"
   ]
  }
 ],
 "metadata": {
  "kernelspec": {
   "display_name": "Python 3 (ipykernel)",
   "language": "python",
   "name": "python3"
  },
  "language_info": {
   "codemirror_mode": {
    "name": "ipython",
    "version": 3
   },
   "file_extension": ".py",
   "mimetype": "text/x-python",
   "name": "python",
   "nbconvert_exporter": "python",
   "pygments_lexer": "ipython3",
   "version": "3.8.10"
  }
 },
 "nbformat": 4,
 "nbformat_minor": 5
}
