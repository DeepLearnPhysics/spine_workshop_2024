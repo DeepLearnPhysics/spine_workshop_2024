{
 "cells": [
  {
   "cell_type": "markdown",
   "id": "65f68045-b8cd-4c90-897d-2265b938818b",
   "metadata": {},
   "source": [
    "# SBN file making with SBND as example"
   ]
  },
  {
   "cell_type": "markdown",
   "id": "31e4ad76-b627-44d6-884a-efc11ae6e9ca",
   "metadata": {},
   "source": [
    "## I. Introduction and Workflow\n",
    "\n",
    "<div>\n",
    "    <br>\n",
    "    <img src=\"assets/sbn.png\"/>\n",
    "    <figcaption style=\"text-align: center; font-size: 24px;\">ICARUS (left) and SBND (right) software chain</figcaption>\n",
    "</div>"
   ]
  },
  {
   "cell_type": "markdown",
   "id": "1c6161bf-902e-49f6-95b2-9ad8fb6f3727",
   "metadata": {},
   "source": [
    "## II. Setup\n",
    "Sorry 2x2 people, LArSoft is nearly impossible to setup outside of the fermilab computers...\n",
    "- ssh into a fermilab gpvm (i.e. `sbndgpvm04.fnal.gov`)\n",
    "- Copy setup script `cp /exp/sbnd/data/users/brindenc/ML/spine_workshop2024/setup.sh /path/to/your/work/area`\n",
    "- Copy custom config fcls `cp /exp/sbnd/data/users/brindenc/ML/spine_workshop2024/*.fcl /path/to/your/work/area`\n",
    "- If on AL9 run `sh /exp/$(id -ng)/data/users/vito/podman/start_SL7dev.sh`\n",
    "- Run setup script `source setup.sh` #sets up SBND stack and Supera config\n",
    "\n"
   ]
  },
  {
   "cell_type": "markdown",
   "id": "780302d7-261f-47ad-bcce-14d2f0fa58c5",
   "metadata": {},
   "source": [
    "## III. Run\n",
    "\n",
    "We will be running using `sbn(d)code v09_90_00`. \n",
    "\n",
    "### Run simulation (optional)\n",
    "You can run the production simulation like this, but we will focus on running supera. The workflow will be documented [here](https://github.com/SBNSoftware/sbndcode/blob/develop/sbndcode/JobConfigurations/README.md) for `sbn(d)code` future versions.\n",
    "```shell\n",
    "lar -c run_mpvmpr_sbnd.fcl -n 1 #particle bomb simulation (one event)\n",
    "lar -c g4_sce_lite.fcl -s prodmpvmpr_sbnd_MPVMPR*.root #particle propogation simulation\n",
    "lar -c detsim_sce_lite.fcl -s prodmpvmpr_sbnd_MPVMPR*G4*.root #detector simulation\n",
    "lar -c reco1_mpvmpr.fcl -s prodmpvmpr_sbnd_MPVMPR*G4*DetSim*.root #signal processing and space point production\n",
    "```\n",
    "\n",
    "Takes ~1.5 min to run and process a mpvmpr event using the workflow above.\n",
    "\n",
    "### Run supera\n",
    "The path to the `reco1` data is at `/exp/sbnd/data/users/brindenc/ML/spine_workshop2024/` on any fermilab machine. If you didn't run the steps above \n",
    "```shell\n",
    "cp prodmpvmpr_sbnd_MPVMPR*G4*DetSim*.root /path/to/your/work/area #copy existing reco1 file to work area\n",
    "lar -c run_supera_sbnd_mpvmpr.fcl -s prodmpvmpr_sbnd_MPVMPR*G4*DetSim*Reco1*.root #supera label making\n",
    "```\n",
    "\n",
    "This will produce a `larcv.root` file, who's contents will be covered in this workshop [here](https://github.com/DeepLearnPhysics/spine_workshop_2024/blob/main/basics/larcv/LArCV_visualization.ipynb)\n",
    "\n",
    "### Explore tools (recommended)\n",
    "To investigate what's in a `.fcl` file use \n",
    "```shell\n",
    "fhicl-dump *.fcl\n",
    "```\n",
    "To investigate what's in an art root file use\n",
    "```shell\n",
    "lar -c eventdump.fcl -s file.root -n 1\n",
    "```"
   ]
  },
  {
   "cell_type": "markdown",
   "id": "ed0bdb9d-9139-413b-9cad-67ebb4da4a51",
   "metadata": {},
   "source": [
    "![image.png](assets/congrats.jpg)"
   ]
  },
  {
   "cell_type": "code",
   "execution_count": null,
   "id": "75cea709-a744-4eaf-9bc2-6affe9f30ada",
   "metadata": {},
   "outputs": [],
   "source": []
  }
 ],
 "metadata": {
  "kernelspec": {
   "display_name": "Python 3 (ipykernel)",
   "language": "python",
   "name": "python3"
  },
  "language_info": {
   "codemirror_mode": {
    "name": "ipython",
    "version": 3
   },
   "file_extension": ".py",
   "mimetype": "text/x-python",
   "name": "python",
   "nbconvert_exporter": "python",
   "pygments_lexer": "ipython3",
   "version": "3.8.10"
  }
 },
 "nbformat": 4,
 "nbformat_minor": 5
}
